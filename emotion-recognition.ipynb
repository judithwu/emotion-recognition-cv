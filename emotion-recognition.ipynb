{
 "cells": [
  {
   "cell_type": "code",
   "execution_count": 1,
   "id": "178452b4-2229-4481-a081-f91ffa8d1d1b",
   "metadata": {},
   "outputs": [],
   "source": [
    "import torch\n",
    "import cv2\n",
    "from torchvision import transforms\n",
    "from PIL import Image\n",
    "import os"
   ]
  },
  {
   "cell_type": "code",
   "execution_count": 2,
   "id": "7f5ba035-9ae7-48b3-80d7-1863a3bcfe78",
   "metadata": {},
   "outputs": [
    {
     "data": {
      "text/plain": [
       "'cuda'"
      ]
     },
     "execution_count": 2,
     "metadata": {},
     "output_type": "execute_result"
    }
   ],
   "source": [
    "# Set device type\n",
    "device = \"cuda\" if torch.cuda.is_available() else \"cpu\"\n",
    "device"
   ]
  },
  {
   "cell_type": "code",
   "execution_count": 3,
   "id": "55b989f8-3946-43cf-b589-81e1324871d2",
   "metadata": {},
   "outputs": [],
   "source": [
    "#define classes \n",
    "classes = ['angry', 'disgust', 'fear', 'happy', 'neutral', 'sad', 'surprise']"
   ]
  },
  {
   "cell_type": "code",
   "execution_count": 4,
   "id": "7ee7761c-c577-4144-86b9-0c17a2a08540",
   "metadata": {},
   "outputs": [],
   "source": [
    "from torch import nn\n",
    "class CNN(nn.Module):\n",
    "    def __init__(self):\n",
    "        super().__init__()\n",
    "        self.conv1 = nn.Sequential(\n",
    "            nn.Conv2d(1, 32, kernel_size=3), #32, 46, 46\n",
    "            nn.ReLU(),\n",
    "            nn.Conv2d(32, 64, kernel_size=3), #64, 44, 44\n",
    "            nn.ReLU(),\n",
    "            nn.MaxPool2d(2), #64, 22, 22\n",
    "            nn.Dropout(0.3))\n",
    "        self.conv2 = nn.Sequential(\n",
    "            nn.Conv2d(64, 128, kernel_size=3), #128, 20, 20\n",
    "            #nn.BatchNorm2d(128),  \n",
    "            nn.ReLU(),\n",
    "            nn.Conv2d(128, 128, kernel_size=3), #128, 18, 18\n",
    "            #nn.BatchNorm2d(128),  \n",
    "            nn.ReLU(),\n",
    "            nn.MaxPool2d(kernel_size=2), #128, 9, 9\n",
    "            nn.Dropout(0.3))\n",
    "        self.classifier = nn.Sequential(\n",
    "            nn.Flatten(),\n",
    "            nn.Linear(128*9*9, 1024),\n",
    "            nn.ReLU(),\n",
    "            nn.Dropout(0.5),\n",
    "            nn.Linear(1024, len(classes)))\n",
    "    def forward(self, x: torch.Tensor):\n",
    "      x = self.conv1(x)\n",
    "      x = self.conv2(x)\n",
    "      x = self.classifier(x)\n",
    "      return x"
   ]
  },
  {
   "cell_type": "code",
   "execution_count": 5,
   "id": "51a39e17-64be-4ed6-864f-f47ae6b80ea9",
   "metadata": {},
   "outputs": [],
   "source": [
    "#load saved model\n",
    "torch.manual_seed(42)\n",
    "model = CNN()\n",
    "\n",
    "# Load in the saved state_dict()\n",
    "model.load_state_dict(torch.load(os.path.join(os.getcwd(), \"model.pth\")))\n",
    "\n",
    "# Send model to GPU\n",
    "model = model.to(device)"
   ]
  },
  {
   "cell_type": "code",
   "execution_count": 6,
   "id": "db7a36a1-1757-42fb-9241-d648f46a35d7",
   "metadata": {},
   "outputs": [],
   "source": [
    "#create transforms\n",
    "transform = transforms.Compose([\n",
    "    transforms.Resize((48, 48)),\n",
    "    transforms.ToTensor(),\n",
    "])"
   ]
  },
  {
   "cell_type": "code",
   "execution_count": 17,
   "id": "5be745cb-5f7a-43f8-bf1a-3ba22c42d43c",
   "metadata": {
    "scrolled": true
   },
   "outputs": [],
   "source": [
    "# define video capture object \n",
    "cap = cv2.VideoCapture(0) \n",
    "while(True): \n",
    "    ret, frame = cap.read() \n",
    "    if not ret:\n",
    "        break\n",
    "    #capture face\n",
    "    face = cv2.CascadeClassifier('haarcascade_frontalface_default.xml')\n",
    "    grayscale = cv2.cvtColor(frame, cv2.COLOR_BGR2GRAY)\n",
    "    faces = face.detectMultiScale(grayscale, scaleFactor=1.3, minNeighbors=5)\n",
    "\n",
    "    #iterate through each face captured\n",
    "    for (x, y, w, h) in faces:\n",
    "        cv2.rectangle(frame, (x, y-10), (x+w, y+h+10), (0, 255, 0), 1) #move rec up by 10, extend down by 10\n",
    "        region = grayscale[y:y + h, x:x + w]\n",
    "        #conver to PIL\n",
    "        pil_img = Image.fromarray(region)\n",
    "\n",
    "        # apply the transformations\n",
    "        cropped_img = transform(pil_img) #resize and convert to tensor\n",
    "        cropped_img = cropped_img.unsqueeze(0) #add batch dim\n",
    "        cropped_img = cropped_img.to(device) #put on gpu\n",
    "        \n",
    "        #make prediction\n",
    "        y_pred_logits = model(cropped_img) \n",
    "        y_pred_probs = torch.softmax(y_pred_logits, dim=1)\n",
    "        y_pred_label = torch.argmax(y_pred_probs, dim=1)\n",
    "        \n",
    "        #display\n",
    "        cv2.putText(frame, classes[y_pred_label], (x, y-20), cv2.FONT_HERSHEY_DUPLEX, 1, (0, 255, 0), 1, cv2.LINE_AA) \n",
    "    cv2.imshow('Video Capture', cv2.resize(frame,(1280,720),interpolation = cv2.INTER_CUBIC))\n",
    "    if cv2.waitKey(1) & 0xFF == ord('q'): \n",
    "        break\n",
    "cap.release() \n",
    "cv2.destroyAllWindows() "
   ]
  },
  {
   "cell_type": "code",
   "execution_count": null,
   "id": "f687dfb0-522b-48da-b5d7-31af949c75e8",
   "metadata": {},
   "outputs": [],
   "source": []
  }
 ],
 "metadata": {
  "kernelspec": {
   "display_name": "Python 3 (ipykernel)",
   "language": "python",
   "name": "python3"
  },
  "language_info": {
   "codemirror_mode": {
    "name": "ipython",
    "version": 3
   },
   "file_extension": ".py",
   "mimetype": "text/x-python",
   "name": "python",
   "nbconvert_exporter": "python",
   "pygments_lexer": "ipython3",
   "version": "3.11.7"
  }
 },
 "nbformat": 4,
 "nbformat_minor": 5
}
